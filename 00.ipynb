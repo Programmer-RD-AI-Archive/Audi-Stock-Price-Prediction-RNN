{
 "cells": [
  {
   "cell_type": "code",
   "execution_count": 1,
   "id": "c9db2ee1-6abb-43bf-86d3-ca0dad676b44",
   "metadata": {},
   "outputs": [
    {
     "data": {
      "text/plain": [
       "<torch._C.Generator at 0x7f6d27cec4b0>"
      ]
     },
     "execution_count": 1,
     "metadata": {},
     "output_type": "execute_result"
    }
   ],
   "source": [
    "import random\n",
    "import seaborn as sns\n",
    "import pandas as pd\n",
    "import numpy as np\n",
    "import matplotlib.pyplot as plt\n",
    "import sklearn\n",
    "import torch,torchvision\n",
    "from torch.nn import *\n",
    "from tqdm import tqdm\n",
    "import cv2\n",
    "from torch.optim import *\n",
    "# Preproccessing\n",
    "from sklearn.preprocessing import (\n",
    "    StandardScaler,\n",
    "    RobustScaler,\n",
    "    MinMaxScaler,\n",
    "    MaxAbsScaler,\n",
    "    OneHotEncoder,\n",
    "    Normalizer,\n",
    "    Binarizer\n",
    ")\n",
    "# Decomposition\n",
    "from sklearn.decomposition import PCA\n",
    "from sklearn.decomposition import KernelPCA\n",
    "# Feature Selection\n",
    "from sklearn.feature_selection import VarianceThreshold\n",
    "from sklearn.feature_selection import SelectKBest\n",
    "from sklearn.feature_selection import RFECV\n",
    "from sklearn.feature_selection import SelectFromModel\n",
    "# Model Eval\n",
    "from sklearn.compose import make_column_transformer\n",
    "from sklearn.model_selection import GridSearchCV\n",
    "from sklearn.model_selection import cross_val_score,train_test_split\n",
    "from sklearn.metrics import mean_absolute_error,mean_squared_error\n",
    "# Other\n",
    "import pickle\n",
    "import wandb\n",
    "\n",
    "PROJECT_NAME = 'Audi-Stock-Price-Prediction'\n",
    "device = 'cuda:0'\n",
    "np.random.seed(21)\n",
    "random.seed(21)\n",
    "torch.manual_seed(21)"
   ]
  },
  {
   "cell_type": "code",
   "execution_count": 2,
   "id": "ce077ec5-38f7-49b2-9dd2-19b4bf3c8ab8",
   "metadata": {},
   "outputs": [],
   "source": [
    "data = pd.read_csv('./data/audi.csv')"
   ]
  },
  {
   "cell_type": "code",
   "execution_count": 3,
   "id": "8b8b910b-ba2f-4703-ade9-d09bf7e1f15d",
   "metadata": {},
   "outputs": [
    {
     "data": {
      "text/html": [
       "<div>\n",
       "<style scoped>\n",
       "    .dataframe tbody tr th:only-of-type {\n",
       "        vertical-align: middle;\n",
       "    }\n",
       "\n",
       "    .dataframe tbody tr th {\n",
       "        vertical-align: top;\n",
       "    }\n",
       "\n",
       "    .dataframe thead th {\n",
       "        text-align: right;\n",
       "    }\n",
       "</style>\n",
       "<table border=\"1\" class=\"dataframe\">\n",
       "  <thead>\n",
       "    <tr style=\"text-align: right;\">\n",
       "      <th></th>\n",
       "      <th>Date</th>\n",
       "      <th>Open</th>\n",
       "      <th>High</th>\n",
       "      <th>Low</th>\n",
       "      <th>Close</th>\n",
       "      <th>Adj Close</th>\n",
       "      <th>Volume</th>\n",
       "    </tr>\n",
       "  </thead>\n",
       "  <tbody>\n",
       "    <tr>\n",
       "      <th>0</th>\n",
       "      <td>2016-08-24</td>\n",
       "      <td>701.549988</td>\n",
       "      <td>701.549988</td>\n",
       "      <td>701.549988</td>\n",
       "      <td>701.549988</td>\n",
       "      <td>699.382935</td>\n",
       "      <td>0</td>\n",
       "    </tr>\n",
       "    <tr>\n",
       "      <th>1</th>\n",
       "      <td>2016-08-25</td>\n",
       "      <td>701.549988</td>\n",
       "      <td>701.549988</td>\n",
       "      <td>701.549988</td>\n",
       "      <td>701.549988</td>\n",
       "      <td>699.382935</td>\n",
       "      <td>0</td>\n",
       "    </tr>\n",
       "    <tr>\n",
       "      <th>2</th>\n",
       "      <td>2016-08-26</td>\n",
       "      <td>701.549988</td>\n",
       "      <td>701.549988</td>\n",
       "      <td>701.549988</td>\n",
       "      <td>701.549988</td>\n",
       "      <td>699.382935</td>\n",
       "      <td>0</td>\n",
       "    </tr>\n",
       "    <tr>\n",
       "      <th>3</th>\n",
       "      <td>2016-08-29</td>\n",
       "      <td>701.549988</td>\n",
       "      <td>701.549988</td>\n",
       "      <td>701.549988</td>\n",
       "      <td>701.549988</td>\n",
       "      <td>699.382935</td>\n",
       "      <td>0</td>\n",
       "    </tr>\n",
       "    <tr>\n",
       "      <th>4</th>\n",
       "      <td>2016-08-30</td>\n",
       "      <td>698.049988</td>\n",
       "      <td>710.000000</td>\n",
       "      <td>695.700012</td>\n",
       "      <td>695.700012</td>\n",
       "      <td>693.551025</td>\n",
       "      <td>300</td>\n",
       "    </tr>\n",
       "  </tbody>\n",
       "</table>\n",
       "</div>"
      ],
      "text/plain": [
       "         Date        Open        High         Low       Close   Adj Close  \\\n",
       "0  2016-08-24  701.549988  701.549988  701.549988  701.549988  699.382935   \n",
       "1  2016-08-25  701.549988  701.549988  701.549988  701.549988  699.382935   \n",
       "2  2016-08-26  701.549988  701.549988  701.549988  701.549988  699.382935   \n",
       "3  2016-08-29  701.549988  701.549988  701.549988  701.549988  699.382935   \n",
       "4  2016-08-30  698.049988  710.000000  695.700012  695.700012  693.551025   \n",
       "\n",
       "   Volume  \n",
       "0       0  \n",
       "1       0  \n",
       "2       0  \n",
       "3       0  \n",
       "4     300  "
      ]
     },
     "execution_count": 3,
     "metadata": {},
     "output_type": "execute_result"
    }
   ],
   "source": [
    "data.head()"
   ]
  },
  {
   "cell_type": "code",
   "execution_count": 4,
   "id": "2da7109e-61c2-47d7-bfec-38a32d78dfa0",
   "metadata": {},
   "outputs": [],
   "source": [
    "data = data['Close']"
   ]
  },
  {
   "cell_type": "code",
   "execution_count": 5,
   "id": "f915db8f-8953-4752-883a-139a5ba87fc9",
   "metadata": {},
   "outputs": [],
   "source": [
    "data = data.tolist()"
   ]
  },
  {
   "cell_type": "code",
   "execution_count": 6,
   "id": "935580dd-1e9c-4383-815c-52a6043429ab",
   "metadata": {},
   "outputs": [],
   "source": [
    "data = torch.from_numpy(np.array(data))"
   ]
  },
  {
   "cell_type": "code",
   "execution_count": 7,
   "id": "cc6513a7-997b-41d0-b964-32284d2e8cac",
   "metadata": {},
   "outputs": [],
   "source": [
    "data = data.view(1,-1)"
   ]
  },
  {
   "cell_type": "code",
   "execution_count": 8,
   "id": "8902b428-8438-4a36-8f4a-d295c1da4f3a",
   "metadata": {},
   "outputs": [],
   "source": [
    "data_input = data[:3,:-1].float().to(device)\n",
    "data_target = data[:3,1:].float().to(device)"
   ]
  },
  {
   "cell_type": "code",
   "execution_count": 9,
   "id": "d9c6d6c8-789e-4406-b40f-3cd8460ed6b9",
   "metadata": {},
   "outputs": [],
   "source": [
    "class Model(Module):\n",
    "    def __init__(self,hidden=128):\n",
    "        super().__init__()\n",
    "        self.hidden = hidden\n",
    "        self.lstm1 = LSTMCell(1,self.hidden).to(device)\n",
    "        self.lstm2 = LSTMCell(self.hidden,self.hidden).to(device)\n",
    "        self.linear = Linear(self.hidden,1).to(device)\n",
    "    \n",
    "    def forward(self,X,future=0):\n",
    "        preds = []\n",
    "        batch_size = X.shape[0]\n",
    "        h_t1 = torch.zeros(batch_size,self.hidden,dtype=torch.float32)\n",
    "        c_t1 = torch.zeros(batch_size,self.hidden,dtype=torch.float32)\n",
    "        h_t2 = torch.zeros(batch_size,self.hidden,dtype=torch.float32)\n",
    "        c_t2 = torch.zeros(batch_size,self.hidden,dtype=torch.float32)\n",
    "        h_t1 = h_t1.to(device)\n",
    "        c_t1 = c_t1.to(device)\n",
    "        h_t2 = h_t2.to(device)\n",
    "        c_t2 = c_t2.to(device)\n",
    "        for X_batch in X.split(1,dim=1):\n",
    "            X_batch = X_batch.to(device)\n",
    "            h_t1,c_t1 = self.lstm1(X_batch,(h_t1,c_t1))\n",
    "            h_t1 = h_t1.to(device)\n",
    "            c_t1 = c_t1.to(device)\n",
    "            h_t2,c_t2 = self.lstm2(h_t1,(h_t2,c_t2))\n",
    "            h_t2 = h_t2.to(device)\n",
    "            c_t2 = c_t2.to(device)\n",
    "            pred = self.linear(h_t1)\n",
    "            preds.append(pred)\n",
    "        for i in range(future):\n",
    "            h_t1,c_t1 = self.lstm1(X_batch,(h_t1,c_t1))\n",
    "            h_t1 = h_t1.to(device)\n",
    "            c_t1 = c_t1.to(device)\n",
    "            h_t2,c_t2 = self.lstm2(h_t1,(h_t2,c_t2))\n",
    "            h_t2 = h_t2.to(device)\n",
    "            c_t2 = c_t2.to(device)\n",
    "            pred = self.linear(h_t1)\n",
    "            preds.append(pred)\n",
    "        preds = torch.cat(preds,dim=1)\n",
    "        return preds"
   ]
  },
  {
   "cell_type": "code",
   "execution_count": 10,
   "id": "99dcb4c4-3dc3-45d4-8ea7-f608f1557f6e",
   "metadata": {},
   "outputs": [],
   "source": [
    "model = Model()"
   ]
  },
  {
   "cell_type": "code",
   "execution_count": 11,
   "id": "a0a7f6bf-4fd9-489b-9317-3c115a0c335d",
   "metadata": {},
   "outputs": [],
   "source": [
    "optimizer = LBFGS(model.parameters(),lr=0.001)"
   ]
  },
  {
   "cell_type": "code",
   "execution_count": 12,
   "id": "7129d8da-8218-4aee-ada8-2e5fb19f28ed",
   "metadata": {},
   "outputs": [],
   "source": [
    "criterion = MSELoss()"
   ]
  },
  {
   "cell_type": "code",
   "execution_count": 13,
   "id": "2f5e8999-0652-4ddf-995c-5c14e2046c41",
   "metadata": {},
   "outputs": [],
   "source": [
    "epochs = 100"
   ]
  },
  {
   "cell_type": "code",
   "execution_count": 14,
   "id": "1457c8af-39ba-48e5-a57b-745ebfa4c998",
   "metadata": {},
   "outputs": [
    {
     "name": "stderr",
     "output_type": "stream",
     "text": [
      "\u001b[34m\u001b[1mwandb\u001b[0m: Currently logged in as: \u001b[33mranuga-d\u001b[0m (use `wandb login --relogin` to force relogin)\n",
      "\u001b[34m\u001b[1mwandb\u001b[0m: wandb version 0.12.1 is available!  To upgrade, please run:\n",
      "\u001b[34m\u001b[1mwandb\u001b[0m:  $ pip install wandb --upgrade\n"
     ]
    },
    {
     "data": {
      "text/html": [
       "\n",
       "                Tracking run with wandb version 0.12.0<br/>\n",
       "                Syncing run <strong style=\"color:#cdcd00\">baseline</strong> to <a href=\"https://wandb.ai\" target=\"_blank\">Weights & Biases</a> <a href=\"https://docs.wandb.com/integrations/jupyter.html\" target=\"_blank\">(Documentation)</a>.<br/>\n",
       "                Project page: <a href=\"https://wandb.ai/ranuga-d/Audi-Stock-Price-Prediction\" target=\"_blank\">https://wandb.ai/ranuga-d/Audi-Stock-Price-Prediction</a><br/>\n",
       "                Run page: <a href=\"https://wandb.ai/ranuga-d/Audi-Stock-Price-Prediction/runs/3um1105h\" target=\"_blank\">https://wandb.ai/ranuga-d/Audi-Stock-Price-Prediction/runs/3um1105h</a><br/>\n",
       "                Run data is saved locally in <code>/home/indika/Programming/Projects/Python/Artifical-Intelligence/PyTorch/RNN/Audi-Stock-Price-Prediction/wandb/run-20210828_221529-3um1105h</code><br/><br/>\n",
       "            "
      ],
      "text/plain": [
       "<IPython.core.display.HTML object>"
      ]
     },
     "metadata": {},
     "output_type": "display_data"
    },
    {
     "data": {
      "text/html": [
       "<br/>Waiting for W&B process to finish, PID 733000<br/>Program ended successfully."
      ],
      "text/plain": [
       "<IPython.core.display.HTML object>"
      ]
     },
     "metadata": {},
     "output_type": "display_data"
    },
    {
     "data": {
      "application/vnd.jupyter.widget-view+json": {
       "model_id": "",
       "version_major": 2,
       "version_minor": 0
      },
      "text/plain": [
       "VBox(children=(Label(value=' 2.71MB of 2.71MB uploaded (0.00MB deduped)\\r'), FloatProgress(value=1.0, max=1.0)…"
      ]
     },
     "metadata": {},
     "output_type": "display_data"
    },
    {
     "data": {
      "text/html": [
       "Find user logs for this run at: <code>/home/indika/Programming/Projects/Python/Artifical-Intelligence/PyTorch/RNN/Audi-Stock-Price-Prediction/wandb/run-20210828_221529-3um1105h/logs/debug.log</code>"
      ],
      "text/plain": [
       "<IPython.core.display.HTML object>"
      ]
     },
     "metadata": {},
     "output_type": "display_data"
    },
    {
     "data": {
      "text/html": [
       "Find internal logs for this run at: <code>/home/indika/Programming/Projects/Python/Artifical-Intelligence/PyTorch/RNN/Audi-Stock-Price-Prediction/wandb/run-20210828_221529-3um1105h/logs/debug-internal.log</code>"
      ],
      "text/plain": [
       "<IPython.core.display.HTML object>"
      ]
     },
     "metadata": {},
     "output_type": "display_data"
    },
    {
     "data": {
      "text/html": [
       "<h3>Run summary:</h3><br/><style>\n",
       "    table.wandb td:nth-child(1) { padding: 0 10px; text-align: right }\n",
       "    </style><table class=\"wandb\">\n",
       "<tr><td>Loss</td><td>238659.01562</td></tr><tr><td>_runtime</td><td>1070</td></tr><tr><td>_timestamp</td><td>1630170199</td></tr><tr><td>_step</td><td>2199</td></tr><tr><td>Val Loss</td><td>238585.53125</td></tr></table>"
      ],
      "text/plain": [
       "<IPython.core.display.HTML object>"
      ]
     },
     "metadata": {},
     "output_type": "display_data"
    },
    {
     "data": {
      "text/html": [
       "<h3>Run history:</h3><br/><style>\n",
       "    table.wandb td:nth-child(1) { padding: 0 10px; text-align: right }\n",
       "    </style><table class=\"wandb\">\n",
       "<tr><td>Loss</td><td>█████▇▇▆▅▅▅▄▄▄▃▃▃▃▂▂▂▂▂▂▂▂▂▂▁▁▁▁▁▁▁▁▁▁▁▁</td></tr><tr><td>_runtime</td><td>▁▁▁▂▂▂▂▂▂▃▃▃▃▃▃▄▄▄▄▄▅▅▅▅▅▅▆▆▆▆▆▇▇▇▇▇▇███</td></tr><tr><td>_timestamp</td><td>▁▁▁▂▂▂▂▂▂▃▃▃▃▃▃▄▄▄▄▄▅▅▅▅▅▅▆▆▆▆▆▇▇▇▇▇▇███</td></tr><tr><td>_step</td><td>▁▁▁▂▂▂▂▂▂▃▃▃▃▃▄▄▄▄▄▄▅▅▅▅▅▅▆▆▆▆▆▇▇▇▇▇▇███</td></tr><tr><td>Val Loss</td><td>█████▇▇▆▅▅▅▄▄▄▃▃▃▃▃▂▂▂▂▂▂▂▂▂▁▁▁▁▁▁▁▁▁▁▁▁</td></tr></table><br/>"
      ],
      "text/plain": [
       "<IPython.core.display.HTML object>"
      ]
     },
     "metadata": {},
     "output_type": "display_data"
    },
    {
     "data": {
      "text/html": [
       "Synced 6 W&B file(s), 100 media file(s), 2 artifact file(s) and 1 other file(s)"
      ],
      "text/plain": [
       "<IPython.core.display.HTML object>"
      ]
     },
     "metadata": {},
     "output_type": "display_data"
    },
    {
     "data": {
      "text/html": [
       "\n",
       "                    <br/>Synced <strong style=\"color:#cdcd00\">baseline</strong>: <a href=\"https://wandb.ai/ranuga-d/Audi-Stock-Price-Prediction/runs/3um1105h\" target=\"_blank\">https://wandb.ai/ranuga-d/Audi-Stock-Price-Prediction/runs/3um1105h</a><br/>\n",
       "                "
      ],
      "text/plain": [
       "<IPython.core.display.HTML object>"
      ]
     },
     "metadata": {},
     "output_type": "display_data"
    }
   ],
   "source": [
    "wandb.init(project=PROJECT_NAME,name='baseline')\n",
    "wandb.watch(model)\n",
    "for _ in tqdm(range(epochs)):\n",
    "    def closure():\n",
    "        optimizer.zero_grad()\n",
    "        preds = model(data_input)\n",
    "        preds = preds.to(device)\n",
    "        loss = criterion(preds,data_target)\n",
    "        wandb.log({'Loss':loss.item()})\n",
    "        loss.backward()\n",
    "        return loss\n",
    "    optimizer.step(closure)\n",
    "    with torch.no_grad():\n",
    "        future = 100\n",
    "        preds = model(data_input,future)\n",
    "        preds = preds.to(device)\n",
    "        loss = criterion(preds[:,:-future],data_target)\n",
    "        wandb.log({'Val Loss':loss.item()})\n",
    "        preds = preds.cpu().detach().numpy()\n",
    "        plt.figure(figsize=(12,6))\n",
    "        n = data_input.shape[1]\n",
    "        plt.plot(np.arange(n),data_target.cpu().view(-1),'r')\n",
    "        plt.plot(np.arange(n,n+future),preds[0][n:],'b')\n",
    "        plt.savefig('./img.png')\n",
    "        plt.close()\n",
    "        wandb.log({'Img':wandb.Image(cv2.imread('./img.png'))})\n",
    "wandb.watch(model)\n",
    "wandb.finish()"
   ]
  },
  {
   "cell_type": "code",
   "execution_count": null,
   "id": "a97b73c4-4720-4c34-8df8-3cdc24feccd5",
   "metadata": {},
   "outputs": [],
   "source": []
  },
  {
   "cell_type": "code",
   "execution_count": null,
   "id": "ab513d13-1dc2-48da-a59f-8169f508fe7d",
   "metadata": {},
   "outputs": [],
   "source": []
  }
 ],
 "metadata": {
  "kernelspec": {
   "display_name": "Python 3.7.3 64-bit ('base': conda)",
   "language": "python",
   "name": "python373jvsc74a57bd0210f9608a45c0278a93c9e0b10db32a427986ab48cfc0d20c139811eb78c4bbc"
  },
  "language_info": {
   "codemirror_mode": {
    "name": "ipython",
    "version": 3
   },
   "file_extension": ".py",
   "mimetype": "text/x-python",
   "name": "python",
   "nbconvert_exporter": "python",
   "pygments_lexer": "ipython3",
   "version": "3.7.7"
  }
 },
 "nbformat": 4,
 "nbformat_minor": 5
}
